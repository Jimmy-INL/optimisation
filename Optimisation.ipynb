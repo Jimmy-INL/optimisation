{
 "cells": [
  {
   "cell_type": "markdown",
   "metadata": {
    "slideshow": {
     "slide_type": "slide"
    }
   },
   "source": [
    "# A survey of optimisation methods\n",
    "\n",
    "## Marc Garcia - @datapythonista"
   ]
  },
  {
   "cell_type": "markdown",
   "metadata": {
    "slideshow": {
     "slide_type": "subslide"
    }
   },
   "source": [
    "## Agenda\n",
    "\n",
    "- Optimisation is everywhere\n",
    "- Components of an optimisation problem\n",
    "- Optimisation problems:\n",
    "  - Hello world\n",
    "  - Linear regression\n",
    "  - Logistic regression\n",
    "  - Neural networks\n",
    "  - Hyperparameter tunning\n",
    "  - Clustering\n",
    "  - Knapsack problem\n",
    "  - Travelling salesman problem\n",
    "- Summary\n",
    "- Resources"
   ]
  },
  {
   "cell_type": "markdown",
   "metadata": {
    "slideshow": {
     "slide_type": "slide"
    }
   },
   "source": [
    "## Why optimisation?\n",
    "\n",
    "Optimisation is **everywhere**"
   ]
  },
  {
   "cell_type": "markdown",
   "metadata": {
    "slideshow": {
     "slide_type": "fragment"
    }
   },
   "source": [
    "- I came to Cambridge minimising commute time and cost"
   ]
  },
  {
   "cell_type": "markdown",
   "metadata": {
    "slideshow": {
     "slide_type": "fragment"
    }
   },
   "source": [
    "- I deliver this talk maximising the content I can present on a given time"
   ]
  },
  {
   "cell_type": "markdown",
   "metadata": {
    "slideshow": {
     "slide_type": "fragment"
    }
   },
   "source": [
    "- Every company's goal is to maximise the top or bottom lines of their P&L"
   ]
  },
  {
   "cell_type": "markdown",
   "metadata": {
    "slideshow": {
     "slide_type": "fragment"
    }
   },
   "source": [
    "- Almost everything in **machine learning** is a simple problem and an optimisation problem"
   ]
  },
  {
   "cell_type": "markdown",
   "metadata": {
    "slideshow": {
     "slide_type": "slide"
    }
   },
   "source": [
    "# Components of an optimisation problem\n",
    "\n",
    "- Variables\n",
    "- Objective function\n",
    "- Constraints"
   ]
  },
  {
   "cell_type": "markdown",
   "metadata": {
    "slideshow": {
     "slide_type": "slide"
    }
   },
   "source": [
    "## Optimisation \"hello world\"\n",
    "\n",
    "<img alt=\"\" src=\"img/coins.png\" style=\"float: right;\"/>\n",
    "\n",
    "- We have **3 coins**\n",
    "- With every coin we can buy **20 sweets**\n",
    "- We want to buy as many sweets as possible"
   ]
  },
  {
   "cell_type": "markdown",
   "metadata": {
    "slideshow": {
     "slide_type": "fragment"
    }
   },
   "source": [
    "**Variables**:\n",
    "\n",
    "- The number of coins we spend `num_coins`"
   ]
  },
  {
   "cell_type": "markdown",
   "metadata": {
    "slideshow": {
     "slide_type": "fragment"
    }
   },
   "source": [
    "**Objective function**:\n",
    "\n",
    "- maximum of the number of sweets bought\n",
    "\n",
    "as a function of the variables:\n",
    "\n",
    "- maximum of `num_coins * 20`"
   ]
  },
  {
   "cell_type": "markdown",
   "metadata": {
    "slideshow": {
     "slide_type": "fragment"
    }
   },
   "source": [
    "**Constraints:**\n",
    "\n",
    "- Maximum number of spent coins is 3: `num_coins <= 3`"
   ]
  },
  {
   "cell_type": "code",
   "execution_count": 1,
   "metadata": {
    "slideshow": {
     "slide_type": "subslide"
    }
   },
   "outputs": [],
   "source": [
    "def generate_solutions():\n",
    "    \"\"\"Generate possible solutions (that satisfy constraints).\"\"\" \n",
    "    num_coins = 0\n",
    "    while num_coins <= 3:\n",
    "        yield num_coins\n",
    "        num_coins += 1\n",
    "\n",
    "def objective_function(num_coins):\n",
    "    \"\"\"Value to maximise.\"\"\"\n",
    "    return num_coins * 20\n",
    "\n",
    "results = {}\n",
    "for solution in generate_solutions():\n",
    "    results[solution] = objective_function(solution)"
   ]
  },
  {
   "cell_type": "code",
   "execution_count": 3,
   "metadata": {
    "slideshow": {
     "slide_type": "subslide"
    }
   },
   "outputs": [
    {
     "data": {
      "image/png": "[encoded data removed]",
      "text/plain": [
       "<Figure size 432x288 with 1 Axes>"
      ]
     },
     "metadata": {
      "needs_background": "light"
     },
     "output_type": "display_data"
    }
   ],
   "source": [
    "%matplotlib inline\n",
    "\n",
    "from matplotlib import pyplot\n",
    "\n",
    "pyplot.bar(results.keys(), results.values())\n",
    "pyplot.ylabel('Number of sweets (score)')\n",
    "pyplot.xlabel('Number of coins (possible solutions)')\n",
    "pyplot.xticks(list(results.keys()));"
   ]
  },
  {
   "cell_type": "markdown",
   "metadata": {
    "slideshow": {
     "slide_type": "subslide"
    }
   },
   "source": [
    "### Properties:\n",
    "\n",
    "- Our variable is **discrete**\n",
    "- The number of solutions is **limited** and **small**\n",
    "- We can easily **evaluate how good a solution is**"
   ]
  },
  {
   "cell_type": "markdown",
   "metadata": {
    "slideshow": {
     "slide_type": "slide"
    }
   },
   "source": [
    "## Linear regression"
   ]
  },
  {
   "cell_type": "code",
   "execution_count": 67,
   "metadata": {
    "slideshow": {
     "slide_type": "subslide"
    }
   },
   "outputs": [],
   "source": [
    "from matplotlib import pyplot\n",
    "\n",
    "POINTS = [(1.14, 1.36), (2.89, 2.06), (3.87, 5.11), (4.88, 5.73), (5.66, 7.11), (7.43, 6.77)]\n",
    "\n",
    "def update(alpha=-1., beta=1.2):\n",
    "    x, y = zip(*POINTS)\n",
    "    pyplot.scatter(x, y)\n",
    "    pyplot.plot((0, max(x)), (alpha, max(x) * beta + alpha), c='r')\n",
    "    pyplot.xlim(0, None)\n",
    "    pyplot.ylim(0, max(y) * 1.4)"
   ]
  },
  {
   "cell_type": "code",
   "execution_count": 68,
   "metadata": {
    "slideshow": {
     "slide_type": "subslide"
    }
   },
   "outputs": [
    {
     "data": {
      "application/vnd.jupyter.widget-view+json": {
       "model_id": "91c5d78fedfb401596d36407ef61d1da",
       "version_major": 2,
       "version_minor": 0
      },
      "text/plain": [
       "interactive(children=(FloatSlider(value=-1.0, description='alpha', max=1.0, min=-3.0), FloatSlider(value=1.2, …"
      ]
     },
     "metadata": {},
     "output_type": "display_data"
    }
   ],
   "source": [
    "import ipywidgets\n",
    "\n",
    "ipywidgets.interact(update);"
   ]
  },
  {
   "cell_type": "code",
   "execution_count": 75,
   "metadata": {
    "slideshow": {
     "slide_type": "subslide"
    }
   },
   "outputs": [],
   "source": [
    "def update(alpha=-1., beta=1.2):\n",
    "    x, y = zip(*POINTS)\n",
    "    pyplot.scatter(x, y)\n",
    "    pyplot.plot((0, max(x)), (alpha, max(x) * beta + alpha), c='r')\n",
    "    pyplot.xlim(0, None)\n",
    "    pyplot.ylim(0, max(y) * 1.4)\n",
    "    \n",
    "    for x, y in POINTS:\n",
    "        pyplot.plot((x, x), (y, alpha + beta * x), c='green')"
   ]
  },
  {
   "cell_type": "code",
   "execution_count": 76,
   "metadata": {
    "slideshow": {
     "slide_type": "subslide"
    }
   },
   "outputs": [
    {
     "data": {
      "application/vnd.jupyter.widget-view+json": {
       "model_id": "ece53b3fd90c4c809c5c9cebd321871d",
       "version_major": 2,
       "version_minor": 0
      },
      "text/plain": [
       "interactive(children=(FloatSlider(value=-1.0, description='alpha', max=1.0, min=-3.0), FloatSlider(value=1.2, …"
      ]
     },
     "metadata": {},
     "output_type": "display_data"
    }
   ],
   "source": [
    "import ipywidgets\n",
    "\n",
    "ipywidgets.interact(update);"
   ]
  },
  {
   "cell_type": "code",
   "execution_count": 77,
   "metadata": {
    "slideshow": {
     "slide_type": "subslide"
    }
   },
   "outputs": [
    {
     "data": {
      "image/png": "[encoded data removed]",
      "text/plain": [
       "<Figure size 432x288 with 1 Axes>"
      ]
     },
     "metadata": {
      "needs_background": "light"
     },
     "output_type": "display_data"
    }
   ],
   "source": [
    "import numpy\n",
    "import statsmodels.api\n",
    "\n",
    "x, y = zip(*POINTS)\n",
    "x = numpy.array(x)\n",
    "x = statsmodels.api.add_constant(x)\n",
    "ols = statsmodels.api.OLS(x, y).fit()\n",
    "alpha, beta = ols.params[0]\n",
    "update(alpha, beta)"
   ]
  },
  {
   "cell_type": "markdown",
   "metadata": {
    "slideshow": {
     "slide_type": "subslide"
    }
   },
   "source": [
    "### Properties\n",
    "\n",
    "- Our variables are **continuous**\n",
    "- The number of solutions is **infinite**\n",
    "- There are **no constraints**\n",
    "- There is an **analytical solution** to compute the optimal"
   ]
  },
  {
   "cell_type": "markdown",
   "metadata": {
    "slideshow": {
     "slide_type": "slide"
    }
   },
   "source": [
    "## Logistic regression"
   ]
  },
  {
   "cell_type": "code",
   "execution_count": 123,
   "metadata": {
    "slideshow": {
     "slide_type": "subslide"
    }
   },
   "outputs": [],
   "source": [
    "from matplotlib import pyplot\n",
    "\n",
    "CLASS_A = [(2.14, 2.36), (2.89, 2.06), (1.87, 4.11), (2.88, 3.73)]\n",
    "CLASS_B = [(4.74, 5.02), (5.66, 7.11), (4.43, 6.77), (2.54, 3.01)]\n",
    "\n",
    "\n",
    "def update(alpha=15., beta=-3.):\n",
    "    for points, colour in zip((CLASS_A, CLASS_B), ('blue', 'red')):\n",
    "        x, y = zip(*points)\n",
    "        pyplot.scatter(x, y, c=colour)\n",
    "    pyplot.plot((0, max(x)), (alpha, max(x) * beta + alpha), c='green')\n",
    "    pyplot.xlim(0, None)\n",
    "    pyplot.ylim(0, max(y) * 1.4)"
   ]
  },
  {
   "cell_type": "code",
   "execution_count": 124,
   "metadata": {
    "slideshow": {
     "slide_type": "subslide"
    }
   },
   "outputs": [
    {
     "data": {
      "application/vnd.jupyter.widget-view+json": {
       "model_id": "56f5200a6ef84c8e8eeed0482143d7db",
       "version_major": 2,
       "version_minor": 0
      },
      "text/plain": [
       "interactive(children=(FloatSlider(value=15.0, description='alpha', max=45.0, min=-15.0), FloatSlider(value=-3.…"
      ]
     },
     "metadata": {},
     "output_type": "display_data"
    }
   ],
   "source": [
    "import ipywidgets\n",
    "\n",
    "ipywidgets.interact(update);"
   ]
  },
  {
   "cell_type": "code",
   "execution_count": 127,
   "metadata": {
    "slideshow": {
     "slide_type": "subslide"
    }
   },
   "outputs": [],
   "source": [
    "import numpy\n",
    "import scipy.stats\n",
    "\n",
    "x, y = numpy.linspace(-10., 10., 100), numpy.linspace(-10., 10., 100)\n",
    "x, y = numpy.meshgrid(x, y)\n",
    "\n",
    "normal = scipy.stats.multivariate_normal([0., 0.], [[10., 0], [0, 10.]])\n",
    "\n",
    "z = -normal.pdf(numpy.dstack((x, y)))"
   ]
  },
  {
   "cell_type": "code",
   "execution_count": 128,
   "metadata": {
    "slideshow": {
     "slide_type": "subslide"
    }
   },
   "outputs": [
    {
     "data": {
      "application/vnd.jupyter.widget-view+json": {
       "model_id": "1b22afbc336f4a3d988dd416da68752b",
       "version_major": 2,
       "version_minor": 0
      },
      "text/plain": [
       "VBox(children=(Figure(camera=PerspectiveCamera(fov=46.0, position=(0.0, 0.0, 2.0), quaternion=(0.0, 0.0, 0.0, …"
      ]
     },
     "metadata": {},
     "output_type": "display_data"
    }
   ],
   "source": [
    "import matplotlib\n",
    "import ipyvolume\n",
    "\n",
    "ipyvolume.figure(width=800, height=600)\n",
    "color = matplotlib.cm.RdYlGn_r((z - z.min()) / z.ptp())\n",
    "ipyvolume.plot_surface(x, z, y, color=color)\n",
    "ipyvolume.ylim(-.05, 0.)\n",
    "ipyvolume.style.box_off()\n",
    "ipyvolume.style.axes_off()\n",
    "ipyvolume.show()"
   ]
  },
  {
   "cell_type": "markdown",
   "metadata": {
    "slideshow": {
     "slide_type": "subslide"
    }
   },
   "source": [
    "### Properties\n",
    "\n",
    "- There is NO **analytical solution** to compute the optimal\n",
    "- We can compute the **gradient** (derivative)\n",
    "- Our cost function is **convex** (no local minima)\n",
    "- We can be **smart in exploring the search space** toward the global minimum\n",
    "  - If **second derivative** can be computed, we can use **Newton-methods**"
   ]
  },
  {
   "cell_type": "markdown",
   "metadata": {
    "slideshow": {
     "slide_type": "subslide"
    }
   },
   "source": [
    "### Implementation (sklearn)\n",
    "\n",
    "    solver : str, {‘newton-cg’, ‘lbfgs’, ‘liblinear’, ‘sag’, ‘saga’}, default: ‘liblinear’.\n",
    "\n",
    "    Algorithm to use in the optimization problem.\n",
    "\n",
    "        - For small datasets, ‘liblinear’ is a good choice, whereas ‘sag’ and ‘saga’ are faster for large ones.\n",
    "        - For multiclass problems, only ‘newton-cg’, ‘sag’, ‘saga’ and ‘lbfgs’ handle multinomial loss; ‘liblinear’ is limited to one-versus-rest schemes.\n",
    "        - ‘newton-cg’, ‘lbfgs’ and ‘sag’ only handle L2 penalty, whereas ‘liblinear’ and ‘saga’ handle L1 penalty.\n",
    "\n",
    "    Note that ‘sag’ and ‘saga’ fast convergence is only guaranteed on features with approximately the same scale. You can preprocess the data with a scaler from sklearn.preprocessing."
   ]
  },
  {
   "cell_type": "markdown",
   "metadata": {
    "slideshow": {
     "slide_type": "slide"
    }
   },
   "source": [
    "## Neural networks\n",
    "\n",
    "- ANNs are universal function approximators\n",
    "- They need to be able to approximate non-convex functions\n",
    "- Convex functions can’t approximate non-convex ones well"
   ]
  },
  {
   "cell_type": "code",
   "execution_count": 131,
   "metadata": {
    "slideshow": {
     "slide_type": "subslide"
    }
   },
   "outputs": [],
   "source": [
    "import numpy\n",
    "import scipy.stats\n",
    "\n",
    "x, y = numpy.linspace(-10., 10., 100), numpy.linspace(-10., 10., 100)\n",
    "x, y = numpy.meshgrid(x, y)\n",
    "\n",
    "normal1 = scipy.stats.multivariate_normal([-3., -3.], [[8., 0], [0, 8.]])\n",
    "normal2 = scipy.stats.multivariate_normal([3., 3.], [[4., 0], [0., 4.]])\n",
    "\n",
    "z = -normal1.pdf(numpy.dstack((x, y))) + -normal2.pdf(numpy.dstack((x, y)))"
   ]
  },
  {
   "cell_type": "code",
   "execution_count": 133,
   "metadata": {
    "slideshow": {
     "slide_type": "subslide"
    }
   },
   "outputs": [
    {
     "data": {
      "application/vnd.jupyter.widget-view+json": {
       "model_id": "1877669825fd4e07aba43526dee73fba",
       "version_major": 2,
       "version_minor": 0
      },
      "text/plain": [
       "VBox(children=(Figure(camera=PerspectiveCamera(fov=46.0, position=(0.0, 0.0, 2.0), quaternion=(0.0, 0.0, 0.0, …"
      ]
     },
     "metadata": {},
     "output_type": "display_data"
    }
   ],
   "source": [
    "import matplotlib\n",
    "import ipyvolume\n",
    "\n",
    "ipyvolume.figure(width=800, height=600)\n",
    "color = matplotlib.cm.RdYlGn_r((z - z.min()) / z.ptp())\n",
    "ipyvolume.plot_surface(x, z, y, color=color)\n",
    "ipyvolume.ylim(-.05, 0.)\n",
    "ipyvolume.style.box_off()\n",
    "ipyvolume.style.axes_off()\n",
    "ipyvolume.show()"
   ]
  },
  {
   "cell_type": "markdown",
   "metadata": {
    "slideshow": {
     "slide_type": "subslide"
    }
   },
   "source": [
    "### Properties\n",
    "\n",
    "- There is NO **analytical solution** to compute the optimal\n",
    "- We can compute the **gradient** (derivative)\n",
    "- Our cost function is NOT **convex**\n",
    "- We need to be VERY **smart in exploring the search space** to find a reasonable local minimum\n",
    "  - Stochastic gradient descent\n",
    "  - Simulated annealing\n",
    "  - Particle swarm optimisation\n",
    "  - ..."
   ]
  },
  {
   "cell_type": "markdown",
   "metadata": {
    "slideshow": {
     "slide_type": "slide"
    }
   },
   "source": [
    "## Hyperparameter optimisation\n",
    "\n",
    "![](img/svm.png)"
   ]
  },
  {
   "cell_type": "code",
   "execution_count": 86,
   "metadata": {
    "slideshow": {
     "slide_type": "subslide"
    }
   },
   "outputs": [],
   "source": [
    "import sklearn.svm\n",
    "\n",
    "clf = sklearn.svm.SVC(C=1., gamma=1e-4)"
   ]
  },
  {
   "cell_type": "code",
   "execution_count": 88,
   "metadata": {
    "slideshow": {
     "slide_type": "subslide"
    }
   },
   "outputs": [],
   "source": [
    "import sklearn.model_selection\n",
    "\n",
    "grid = sklearn.model_selection.GridSearchCV(estimator=sklearn.svm.SVC(),\n",
    "                                            param_grid={'C': [.01, .1, 1., 10.],\n",
    "                                                        'gamma': [1e2, 1e3, 1e4, 1e5]})"
   ]
  },
  {
   "cell_type": "code",
   "execution_count": 92,
   "metadata": {
    "slideshow": {
     "slide_type": "subslide"
    }
   },
   "outputs": [
    {
     "data": {
      "text/plain": [
       "[{'C': 0.01, 'gamma': 100.0},\n",
       " {'C': 0.01, 'gamma': 1000.0},\n",
       " {'C': 0.01, 'gamma': 10000.0},\n",
       " {'C': 0.01, 'gamma': 100000.0},\n",
       " {'C': 0.1, 'gamma': 100.0},\n",
       " {'C': 0.1, 'gamma': 1000.0},\n",
       " {'C': 0.1, 'gamma': 10000.0},\n",
       " {'C': 0.1, 'gamma': 100000.0},\n",
       " {'C': 1.0, 'gamma': 100.0},\n",
       " {'C': 1.0, 'gamma': 1000.0},\n",
       " {'C': 1.0, 'gamma': 10000.0},\n",
       " {'C': 1.0, 'gamma': 100000.0},\n",
       " {'C': 10.0, 'gamma': 100.0},\n",
       " {'C': 10.0, 'gamma': 1000.0},\n",
       " {'C': 10.0, 'gamma': 10000.0},\n",
       " {'C': 10.0, 'gamma': 100000.0}]"
      ]
     },
     "execution_count": 92,
     "metadata": {},
     "output_type": "execute_result"
    }
   ],
   "source": [
    "list(sklearn.model_selection.ParameterGrid(grid.param_grid))"
   ]
  },
  {
   "cell_type": "markdown",
   "metadata": {
    "slideshow": {
     "slide_type": "subslide"
    }
   },
   "source": [
    "Bayesian optimisation\n",
    "\n",
    "![](img/bayesian_optimisation.png)"
   ]
  },
  {
   "cell_type": "markdown",
   "metadata": {
    "slideshow": {
     "slide_type": "subslide"
    }
   },
   "source": [
    "### Properties\n",
    "\n",
    "- We can NOT compute the **gradient** (derivative)\n",
    "- No information about the shape of our function (convex...)\n",
    "  - Assumption that **close points have close values**\n",
    "- We can be VERY **smart in exploring the search space** toward the global minimum"
   ]
  },
  {
   "cell_type": "code",
   "execution_count": 141,
   "metadata": {
    "slideshow": {
     "slide_type": "subslide"
    }
   },
   "outputs": [
    {
     "data": {
      "image/png": "[encoded data removed]",
      "text/plain": [
       "<Figure size 432x288 with 1 Axes>"
      ]
     },
     "metadata": {
      "needs_background": "light"
     },
     "output_type": "display_data"
    }
   ],
   "source": [
    "import numpy\n",
    "from matplotlib import pyplot\n",
    "\n",
    "size = 30\n",
    "x = numpy.random.randint(100, size=size)\n",
    "pyplot.bar(range(size), x);"
   ]
  },
  {
   "cell_type": "markdown",
   "metadata": {
    "slideshow": {
     "slide_type": "slide"
    }
   },
   "source": [
    "## Clustering"
   ]
  },
  {
   "cell_type": "code",
   "execution_count": 143,
   "metadata": {
    "slideshow": {
     "slide_type": "subslide"
    }
   },
   "outputs": [
    {
     "data": {
      "image/png": "[encoded data removed]",
      "text/plain": [
       "<Figure size 432x288 with 1 Axes>"
      ]
     },
     "metadata": {
      "needs_background": "light"
     },
     "output_type": "display_data"
    }
   ],
   "source": [
    "from matplotlib import pyplot\n",
    "\n",
    "POINTS = [(2.14, 2.36), (2.89, 2.06), (1.87, 4.11), (2.88, 3.73),\n",
    "          (4.74, 5.02), (5.66, 7.11), (4.43, 6.77), (2.54, 3.01)]\n",
    "\n",
    "x, y = zip(*POINTS)\n",
    "pyplot.scatter(x, y);"
   ]
  },
  {
   "cell_type": "code",
   "execution_count": 145,
   "metadata": {
    "slideshow": {
     "slide_type": "subslide"
    }
   },
   "outputs": [
    {
     "data": {
      "image/png": "[encoded data removed]",
      "text/plain": [
       "<Figure size 432x288 with 1 Axes>"
      ]
     },
     "metadata": {
      "needs_background": "light"
     },
     "output_type": "display_data"
    }
   ],
   "source": [
    "from matplotlib import pyplot\n",
    "\n",
    "CLUSTER_1 = [(2.14, 2.36), (2.89, 2.06), (1.87, 4.11), (2.88, 3.73), (2.54, 3.01)]\n",
    "CLUSTER_2 = [(4.74, 5.02), (5.66, 7.11), (4.43, 6.77)]\n",
    "\n",
    "for points, colour in zip((CLUSTER_1, CLUSTER_2), ('blue', 'red')):\n",
    "    x, y = zip(*points)\n",
    "    pyplot.scatter(x, y, color=colour)"
   ]
  },
  {
   "cell_type": "code",
   "execution_count": 149,
   "metadata": {
    "slideshow": {
     "slide_type": "subslide"
    }
   },
   "outputs": [
    {
     "data": {
      "text/plain": [
       "[<matplotlib.lines.Line2D at 0x7f132a20f860>]"
      ]
     },
     "execution_count": 149,
     "metadata": {},
     "output_type": "execute_result"
    },
    {
     "data": {
      "image/png": "[encoded data removed]",
      "text/plain": [
       "<Figure size 432x288 with 1 Axes>"
      ]
     },
     "metadata": {
      "needs_background": "light"
     },
     "output_type": "display_data"
    }
   ],
   "source": [
    "for points, colour in zip((CLUSTER_1, CLUSTER_2), ('blue', 'red')):\n",
    "    x, y = zip(*points)\n",
    "    pyplot.scatter(x, y, color=colour)\n",
    "\n",
    "pyplot.plot(*zip(CLUSTER_1[1], CLUSTER_2[0]), color='green');"
   ]
  },
  {
   "cell_type": "code",
   "execution_count": 151,
   "metadata": {
    "slideshow": {
     "slide_type": "subslide"
    }
   },
   "outputs": [
    {
     "data": {
      "image/png": "[encoded data removed]",
      "text/plain": [
       "<Figure size 432x288 with 1 Axes>"
      ]
     },
     "metadata": {
      "needs_background": "light"
     },
     "output_type": "display_data"
    }
   ],
   "source": [
    "for points, colour in zip((CLUSTER_1, CLUSTER_2), ('blue', 'red')):\n",
    "    x, y = zip(*points)\n",
    "    pyplot.scatter(x, y, color=colour)\n",
    "\n",
    "pyplot.plot(*zip(CLUSTER_1[3], CLUSTER_1[4]), color='green');"
   ]
  },
  {
   "cell_type": "markdown",
   "metadata": {
    "slideshow": {
     "slide_type": "subslide"
    }
   },
   "source": [
    "### Properties\n",
    "\n",
    "- **Discrete** variables\n",
    "  - `{'point_1': 'cluster_A', 'point_2': 'cluster_B'}`\n",
    "- **Brute force** algorithm only feasible for toy problems\n",
    "- Only option is to be **smart in exploring the search space** from an algorithmic point of view\n",
    "  - k-means, hierarchical clustering... "
   ]
  },
  {
   "cell_type": "markdown",
   "metadata": {
    "slideshow": {
     "slide_type": "slide"
    }
   },
   "source": [
    "## Knapsack problem\n",
    "\n",
    "![](img/knapsack.png)"
   ]
  },
  {
   "cell_type": "code",
   "execution_count": 158,
   "metadata": {
    "slideshow": {
     "slide_type": "subslide"
    }
   },
   "outputs": [
    {
     "name": "stdout",
     "output_type": "stream",
     "text": [
      "Possible solutions: 1267650600228229401496703205376\n",
      "Time to compute (1 microsecond per solution): 40169423537538640 years\n"
     ]
    }
   ],
   "source": [
    "take_item = [1, 1, 1, 0, 0]\n",
    "item_value = [1_000, 4_000, 5_000, 5_000, 2_000]\n",
    "item_weight = [10, 300, 1, 200, 100]\n",
    "\n",
    "def objective(solution):\n",
    "    return sum(take * value in take, value in zip(solution, item_value))\n",
    "\n",
    "def constraint(solution):\n",
    "    return sum(take * weight in take, weight in zip(solution, item_weight)) <= 400\n",
    "\n",
    "print(f'Possible solutions: {2 ** 100}')\n",
    "\n",
    "print(f'Time to compute (1 microsecond per solution): {(2 ** 100) / (1_000_000 * 60 * 60  * 24 * 365.25):.0f} years')"
   ]
  },
  {
   "cell_type": "markdown",
   "metadata": {
    "slideshow": {
     "slide_type": "subslide"
    }
   },
   "source": [
    "Again, we need to be **smart in exploring the search space**\n",
    "\n",
    "Usual solution: **dynamic programming**\n",
    "- Store intermediate results"
   ]
  },
  {
   "cell_type": "markdown",
   "metadata": {
    "slideshow": {
     "slide_type": "slide"
    }
   },
   "source": [
    "## Travelling salesman problem (TSP)\n",
    "\n",
    "![](img/tsp.png)"
   ]
  },
  {
   "cell_type": "markdown",
   "metadata": {
    "slideshow": {
     "slide_type": "subslide"
    }
   },
   "source": [
    "**Heuristic methods**\n",
    "\n",
    "![](img/tsp_heuristic.gif)\n",
    "\n",
    "Solve a much **easier problem** that returns a **good enough** solution"
   ]
  },
  {
   "cell_type": "markdown",
   "metadata": {
    "slideshow": {
     "slide_type": "subslide"
    }
   },
   "source": [
    "**Linear programming**\n",
    "\n",
    "![](img/linear_programming.png)"
   ]
  },
  {
   "cell_type": "markdown",
   "metadata": {
    "slideshow": {
     "slide_type": "subslide"
    }
   },
   "source": [
    "**Solvers**\n",
    "\n",
    "Pythoninc form:\n",
    "```python\n",
    "p = Problem()\n",
    "\n",
    "p.x1 = Variable(lower_bound=0., type=float)\n",
    "p.x2 = Variable(lower_bound=0., type=float)\n",
    "\n",
    "p.objective = 12 * x1 - 3 * x2\n",
    "\n",
    "p.constraints.add(x1 + 20 * x2 <= 110)\n",
    "\n",
    "p.solve()\n",
    "```\n",
    "\n",
    "Examples: [Pyomo](https://pyomo.readthedocs.io), [PuLP](https://www.coin-or.org/PuLP/)"
   ]
  },
  {
   "cell_type": "markdown",
   "metadata": {
    "slideshow": {
     "slide_type": "subslide"
    }
   },
   "source": [
    "**Solvers**\n",
    "\n",
    "Matrix form:\n",
    "```python\n",
    "\n",
    "objective = [12., -7, 34.]\n",
    "\n",
    "constraints = [[-3.,  0., -1.],\n",
    "               [ 0.,  2.,  0.],\n",
    "               [ 8., -4.,  0.]]\n",
    "\n",
    "Problem.solve(objective, constraints)\n",
    "```\n",
    "\n",
    "Example: [CVXOPT](https://cvxopt.org/)"
   ]
  },
  {
   "cell_type": "markdown",
   "metadata": {
    "slideshow": {
     "slide_type": "subslide"
    }
   },
   "source": [
    "**Solvers**\n",
    "\n",
    "As many as you can imagine:\n",
    "\n",
    "- COIN-OR Linear Programming (CLP)\n",
    "- GNU Linear Programming Kit (GLPK)\n",
    "- lp_solve\n",
    "- MINOS\n",
    "- ...\n",
    "\n",
    "Many variants: Linear programming, Mixed Integer LP, Convex optimisation...\n",
    "\n",
    "Many proprietary options too."
   ]
  },
  {
   "cell_type": "markdown",
   "metadata": {
    "slideshow": {
     "slide_type": "slide"
    }
   },
   "source": [
    "## Summary"
   ]
  },
  {
   "cell_type": "markdown",
   "metadata": {
    "slideshow": {
     "slide_type": "fragment"
    }
   },
   "source": [
    "- Optimisation is a **huge** area"
   ]
  },
  {
   "cell_type": "markdown",
   "metadata": {
    "slideshow": {
     "slide_type": "fragment"
    }
   },
   "source": [
    "- Most problems can't be solved with **analytical solutions** or **brute force** approaches"
   ]
  },
  {
   "cell_type": "markdown",
   "metadata": {
    "slideshow": {
     "slide_type": "fragment"
    }
   },
   "source": [
    "- Lots of **algorithms** (and solvers) exist to solve **specific** kinds of problems"
   ]
  },
  {
   "cell_type": "markdown",
   "metadata": {
    "slideshow": {
     "slide_type": "fragment"
    }
   },
   "source": [
    "- The more **specialised** the algorithm is, the **faster** it will be, and with **better** results:\n",
    "  - Linear programming < Convex optimisation < Bayesian optimisation"
   ]
  },
  {
   "cell_type": "markdown",
   "metadata": {
    "slideshow": {
     "slide_type": "fragment"
    }
   },
   "source": [
    "- In most cases want will want **transform** our problem to one of the solved problems"
   ]
  },
  {
   "cell_type": "markdown",
   "metadata": {
    "slideshow": {
     "slide_type": "slide"
    }
   },
   "source": [
    "## Resources\n",
    "\n",
    "- OLS visually (blog): http://setosa.io/ev/ordinary-least-squares-regression/\n",
    "- Convex optimisation (book): https://web.stanford.edu/~boyd/cvxbook/bv_cvxbook.pdf\n",
    "- Convex optimisation (video lectures): https://www.youtube.com/view_play_list?p=3940DD956CDF0622\n",
    "- Non-convex optimisation (slides): https://www.cs.cornell.edu/courses/cs6787/2017fa/Lecture7.pdf\n",
    "- Iterative Methods for Optimization (book): https://archive.siam.org/books/textbooks/fr18_book.pdf\n",
    "- Gaussian processes / Bayesian optimisation (blog): http://katbailey.github.io/post/gaussian-processes-for-dummies/\n",
    "- Heuristic algorithms: https://optimization.mccormick.northwestern.edu/index.php/Heuristic_algorithms\n",
    "- Comparison of open source solvers: https://prod-ng.sandia.gov/techlib-noauth/access-control.cgi/2013/138847.pdf"
   ]
  },
  {
   "cell_type": "markdown",
   "metadata": {
    "slideshow": {
     "slide_type": "slide"
    }
   },
   "source": [
    "## Thank you\n",
    "\n",
    "- datapythonista.github.com\n",
    "- twitter.com/datapythonista\n",
    "- linkedin.com/in/datapythonista\n",
    "- github.com/datapythonista\n",
    "\n",
    "#### @datapythonista\n"
   ]
  }
 ],
 "metadata": {
  "celltoolbar": "Slideshow",
  "kernelspec": {
   "display_name": "Python 3",
   "language": "python",
   "name": "python3"
  },
  "language_info": {
   "codemirror_mode": {
    "name": "ipython",
    "version": 3
   },
   "file_extension": ".py",
   "mimetype": "text/x-python",
   "name": "python",
   "nbconvert_exporter": "python",
   "pygments_lexer": "ipython3",
   "version": "3.7.2"
  }
 },
 "nbformat": 4,
 "nbformat_minor": 2
}
