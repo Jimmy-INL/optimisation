{
 "cells": [
  {
   "cell_type": "markdown",
   "metadata": {
    "slideshow": {
     "slide_type": "slide"
    }
   },
   "source": [
    "# A survey of optimisation methods\n",
    "\n",
    "## Marc Garcia - @datapythonista"
   ]
  },
  {
   "cell_type": "markdown",
   "metadata": {
    "slideshow": {
     "slide_type": "subslide"
    }
   },
   "source": [
    "Agenda\n",
    "\n",
    "- Optimisation is everywhere\n",
    "- Components of an optimisation problem\n",
    "- Example: Ordinary least squares"
   ]
  },
  {
   "cell_type": "markdown",
   "metadata": {
    "slideshow": {
     "slide_type": "slide"
    }
   },
   "source": [
    "## Why optimisation?\n",
    "\n",
    "Optimisation is **everywhere**"
   ]
  },
  {
   "cell_type": "markdown",
   "metadata": {
    "slideshow": {
     "slide_type": "fragment"
    }
   },
   "source": [
    "- I came to Cambridge minimising commute time and cost"
   ]
  },
  {
   "cell_type": "markdown",
   "metadata": {
    "slideshow": {
     "slide_type": "fragment"
    }
   },
   "source": [
    "- I deliver this talk maximising the content I can present on a given time"
   ]
  },
  {
   "cell_type": "markdown",
   "metadata": {
    "slideshow": {
     "slide_type": "fragment"
    }
   },
   "source": [
    "- Every company's goal is to maximise the top or bottom lines of their P&L"
   ]
  },
  {
   "cell_type": "markdown",
   "metadata": {
    "slideshow": {
     "slide_type": "fragment"
    }
   },
   "source": [
    "- Everything in **machine learning** is a simple problem and an optimisation problem"
   ]
  },
  {
   "cell_type": "markdown",
   "metadata": {
    "slideshow": {
     "slide_type": "slide"
    }
   },
   "source": [
    "# Components of an optimisation problem\n",
    "\n",
    "- Variables\n",
    "- Objective function\n",
    "- Constraints"
   ]
  },
  {
   "cell_type": "markdown",
   "metadata": {
    "slideshow": {
     "slide_type": "slide"
    }
   },
   "source": [
    "## Optimisation \"hello world\"\n",
    "\n",
    "<img alt=\"\" src=\"img/coins.png\" style=\"float: right;\"/>\n",
    "\n",
    "- We have **3 coins**\n",
    "- With every coin we can buy **20 sweets**\n",
    "- We want to buy as many sweets as possible"
   ]
  },
  {
   "cell_type": "markdown",
   "metadata": {
    "slideshow": {
     "slide_type": "fragment"
    }
   },
   "source": [
    "**Variables**:\n",
    "\n",
    "- The number of coins we spend `num_coins`"
   ]
  },
  {
   "cell_type": "markdown",
   "metadata": {
    "slideshow": {
     "slide_type": "fragment"
    }
   },
   "source": [
    "**Objective function**:\n",
    "\n",
    "- maximum of the number of sweets bought\n",
    "\n",
    "as a function of the variables:\n",
    "\n",
    "- maximum of `num_coins * 20`"
   ]
  },
  {
   "cell_type": "markdown",
   "metadata": {
    "slideshow": {
     "slide_type": "fragment"
    }
   },
   "source": [
    "**Constraints:**\n",
    "\n",
    "- Maximum number of spent coins is 3: `num_coins <= 3`"
   ]
  },
  {
   "cell_type": "code",
   "execution_count": 2,
   "metadata": {
    "slideshow": {
     "slide_type": "subslide"
    }
   },
   "outputs": [],
   "source": [
    "def generate_solutions():\n",
    "    \"\"\"Generate possible solutions (that satisfy constraints).\"\"\" \n",
    "    num_coins = 0\n",
    "    while num_coins <= 3:\n",
    "        yield num_coins\n",
    "        num_coins += 1\n",
    "\n",
    "def objective_function(num_coins):\n",
    "    \"\"\"Value to maximise.\"\"\"\n",
    "    return num_coins * 20\n",
    "\n",
    "results = {}\n",
    "for solution in generate_solutions():\n",
    "    results[solution] = objective_function(solution)"
   ]
  },
  {
   "cell_type": "code",
   "execution_count": 15,
   "metadata": {
    "slideshow": {
     "slide_type": "subslide"
    }
   },
   "outputs": [
    {
     "data": {
      "image/png": "[encoded data removed]",
      "text/plain": [
       "<Figure size 432x288 with 1 Axes>"
      ]
     },
     "metadata": {
      "needs_background": "light"
     },
     "output_type": "display_data"
    }
   ],
   "source": [
    "from matplotlib import pyplot\n",
    "\n",
    "pyplot.bar(results.keys(), results.values())\n",
    "pyplot.ylabel('Number of sweets (score)')\n",
    "pyplot.xlabel('Number of coins (possible solutions)')\n",
    "pyplot.xticks(list(results.keys()));"
   ]
  },
  {
   "cell_type": "markdown",
   "metadata": {
    "slideshow": {
     "slide_type": "subslide"
    }
   },
   "source": [
    "Properties:\n",
    "\n",
    "- Our variable is **discrete**\n",
    "- The number of solutions is **limited** and **small**\n",
    "- We can easily **evaluate how good a solution is**"
   ]
  },
  {
   "cell_type": "code",
   "execution_count": 41,
   "metadata": {},
   "outputs": [
    {
     "data": {
      "application/vnd.jupyter.widget-view+json": {
       "model_id": "d3c9cdaeeba4402cb899627c247e75ee",
       "version_major": 2,
       "version_minor": 0
      },
      "text/plain": [
       "interactive(children=(FloatSlider(value=-1.0, description='alpha', max=1.0, min=-3.0), FloatSlider(value=1.2, …"
      ]
     },
     "metadata": {},
     "output_type": "display_data"
    }
   ],
   "source": [
    "from matplotlib import pyplot\n",
    "import ipywidgets\n",
    "\n",
    "POINTS = [(1.14, 1.36), (2.89, 2.06), (3.87, 5.11), (4.88, 5.73), (5.66, 7.11), (7.43, 6.77)]\n",
    "\n",
    "def update(alpha=-1., beta=1.2):\n",
    "    x, y = zip(*POINTS)\n",
    "    pyplot.scatter(x, y)\n",
    "    pyplot.plot((0, max(x)), (alpha, max(x) * beta + alpha), c='r')\n",
    "    pyplot.xlim(0, None)\n",
    "    pyplot.ylim(0, max(y) * 1.4)\n",
    "\n",
    "ipywidgets.interact(update);"
   ]
  },
  {
   "cell_type": "code",
   "execution_count": 55,
   "metadata": {},
   "outputs": [
    {
     "data": {
      "text/plain": [
       "0.9031266881092677"
      ]
     },
     "execution_count": 55,
     "metadata": {},
     "output_type": "execute_result"
    }
   ],
   "source": [
    "import numpy\n",
    "import statsmodels.api\n",
    "\n",
    "x, y = zip(*POINTS)\n",
    "x = numpy.array(x)\n",
    "x = statsmodels.api.add_constant(x)\n",
    "ols = statsmodels.api.OLS(x, y).fit()\n",
    "alpha, beta = ols.params[0]\n",
    "\n",
    "beta"
   ]
  },
  {
   "cell_type": "markdown",
   "metadata": {},
   "source": [
    "Properties\n",
    "\n",
    "- Our variables are **continuous**\n",
    "- The number of solutions is **infinite**\n",
    "- There are **no constraints**\n",
    "- There is an **analytical function** to compute the optimal"
   ]
  },
  {
   "cell_type": "code",
   "execution_count": null,
   "metadata": {},
   "outputs": [],
   "source": []
  }
 ],
 "metadata": {
  "celltoolbar": "Slideshow",
  "kernelspec": {
   "display_name": "Python 3",
   "language": "python",
   "name": "python3"
  },
  "language_info": {
   "codemirror_mode": {
    "name": "ipython",
    "version": 3
   },
   "file_extension": ".py",
   "mimetype": "text/x-python",
   "name": "python",
   "nbconvert_exporter": "python",
   "pygments_lexer": "ipython3",
   "version": "3.7.2"
  }
 },
 "nbformat": 4,
 "nbformat_minor": 2
}
